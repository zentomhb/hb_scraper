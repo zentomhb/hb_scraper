{
 "cells": [
  {
   "cell_type": "code",
   "execution_count": 1,
   "metadata": {},
   "outputs": [],
   "source": [
    "import chancelator\n",
    "import re"
   ]
  },
  {
   "cell_type": "code",
   "execution_count": 2,
   "metadata": {},
   "outputs": [
    {
     "name": "stdout",
     "output_type": "stream",
     "text": [
      "False\n",
      "Search urls ['https://www.halfbakery.com/view/ftm=r259200:s=Qr:d=irq:dn=100:ds=0:n=Today_27s_20Notions:i=A_20list_20of_20todays_20ideas_20and_20annotations:t=Today_27s_20Notions']\n",
      "Number of unique links to follow: 22\n",
      "Processing...\n",
      " 22 pages to collect\n",
      "7e81cbdd82dae81af5298baad1a48573\n",
      "f14d10de4b55d4ce66a1e4ca424d3865\n",
      "34f89e8c2fbd76f79c56876144d7a096\n",
      "7feee57ce90aaa5fab67253f4a0c7c4d\n",
      "938e1c97e22b857520dd2eb726f653c5\n",
      "ff96ff8118529349adedcb390642df14\n",
      "db330063735efa2086eb080fa07fab0c\n",
      "c3eb9bca6c09992574f0cc3927390215\n",
      "5a05e8b12aa7fdb9bc6e12106ba45b9d\n",
      "21b635c0c1b18f0156c74871c642c6fc\n",
      "Read 10 of 22...\n",
      "fbeb8c1ba52b192823899c8e98ea5d44\n",
      "1396d6e62cca9ce267918d0e7577d540\n",
      "d9fbaaa3e189225f748de1af723ab9cf\n",
      "168ec2823de19ff181e2c752b4b06dec\n",
      "03f2b5fd38a814bb266f6f03602d5c3c\n",
      "6bf8e83b56c46c2630203c34dea97ae7\n",
      "e76446cd7dfc0d11724b35374e63e902\n",
      "b0f53819a83b6f79e87b3627a8f60917\n",
      "f390daf0a23fc211c05bf5e49586cc9f\n",
      "cfca96001ef007b1489638a940ab7dda\n",
      "Read 20 of 22...\n",
      "9d5fd0eab9c5e28e069e8f1091bd1de2\n",
      "de18d685646d4f8c3d0fb46cfb276e6e\n",
      "\n",
      "Complete read 22 of 22\n"
     ]
    }
   ],
   "source": [
    "new_ideas = chancelator.collect_ideas(first_time=False)"
   ]
  },
  {
   "cell_type": "code",
   "execution_count": 3,
   "metadata": {},
   "outputs": [
    {
     "name": "stdout",
     "output_type": "stream",
     "text": [
      "idea count: 306\n",
      "Database Schema Exists\n"
     ]
    }
   ],
   "source": [
    "ds=chancelator.sb.DataStore(trash=False)"
   ]
  },
  {
   "cell_type": "code",
   "execution_count": 4,
   "metadata": {},
   "outputs": [
    {
     "data": {
      "text/plain": [
       "[{'tbl_name': 'idea_fetch'},\n",
       " {'tbl_name': 'anno_fetch'},\n",
       " {'tbl_name': 'link_fetch'},\n",
       " {'tbl_name': 'fresh_ideas'},\n",
       " {'tbl_name': 'latest_user_content'}]"
      ]
     },
     "execution_count": 4,
     "metadata": {},
     "output_type": "execute_result"
    }
   ],
   "source": [
    "ds.query_to_recordset(\"select tbl_name from sqlite_master\")"
   ]
  },
  {
   "cell_type": "code",
   "execution_count": 5,
   "metadata": {},
   "outputs": [
    {
     "name": "stdout",
     "output_type": "stream",
     "text": [
      "Hashmatch - already cached\n",
      "Hashmatch - already cached\n",
      "Hashmatch - already cached\n",
      "Hashmatch - already cached\n",
      "Hashmatch - already cached\n",
      "Hashmatch - already cached\n",
      "Hashmatch - already cached\n",
      "Hashmatch - already cached\n",
      "Hashmatch - already cached\n",
      "Hashmatch - already cached\n",
      "Hashmatch - already cached\n",
      "Hashmatch - already cached\n",
      "Hashmatch - already cached\n",
      "Hashmatch - already cached\n",
      "Hashmatch - already cached\n",
      "Hashmatch - already cached\n",
      "Hashmatch - already cached\n",
      "Hashmatch - already cached\n",
      "Hashmatch - already cached\n",
      "Hashmatch - already cached\n",
      "Hashmatch - already cached\n",
      "Hashmatch - already cached\n"
     ]
    }
   ],
   "source": [
    "chancelator.save_ideas(ds,new_ideas)"
   ]
  },
  {
   "cell_type": "code",
   "execution_count": 6,
   "metadata": {},
   "outputs": [
    {
     "data": {
      "text/plain": [
       "[{'count(*)': 306}]"
      ]
     },
     "execution_count": 6,
     "metadata": {},
     "output_type": "execute_result"
    }
   ],
   "source": [
    "ds.query_to_recordset(\"select count(*) from idea_fetch\")"
   ]
  },
  {
   "cell_type": "code",
   "execution_count": 7,
   "metadata": {},
   "outputs": [
    {
     "name": "stdout",
     "output_type": "stream",
     "text": [
      "\n",
      "It has been 5 days since Hitler was last mentioned.\n",
      "anno found on Fishties by [zen_tom] //to Adolph Hitler caused me // on 17 Dec 2020\n",
      "\n",
      "No mention of Idi Amin found in the cache.\n",
      "\n",
      "It has been 69 days since Genghis Khan was last mentioned.\n",
      "anno found on Hitler negative space by [xenzag] //posted the Genghis Khan-can as an // on 14 Oct 2020\n",
      "\n",
      "It has been 6 days since Donald Trump was last mentioned.\n",
      "anno found on MentorBubbles; view the internet versions of the people who are doing well by [xenzag] //someone like Trump gets endless// on 16 Dec 2020\n",
      "\n",
      "It has been 20 days since Brexit was last mentioned.\n",
      "idea found on Swap populations of Scotland and Northern Ireland by [hippo] //Post-Brexit, when the // on 02 Dec 2020\n",
      "\n",
      "It has been 15 days since Political Correctness was last mentioned.\n",
      "anno found on Big Brother's Mind Numbing Tea Biscuits by [zen_tom] //compliance and political correctness, parroting// on 07 Dec 2020\n"
     ]
    },
    {
     "name": "stderr",
     "output_type": "stream",
     "text": [
      "/home/tomk/Documents/Coding/gitHub/hb_scraper/chancelator.py:81: SettingWithCopyWarning: \n",
      "A value is trying to be set on a copy of a slice from a DataFrame.\n",
      "Try using .loc[row_indexer,col_indexer] = value instead\n",
      "\n",
      "See the caveats in the documentation: http://pandas.pydata.org/pandas-docs/stable/user_guide/indexing.html#returning-a-view-versus-a-copy\n",
      "  f_df['matches']=kmatches\n"
     ]
    }
   ],
   "source": [
    "\n",
    "match_d = {\"Hitler\" : [re.compile(r\"(?i)\\b(hitler)\\b\"), \n",
    "                       re.compile(r\"(?i)\\b(führer|fuhrer)\\b\"),\n",
    "                       re.compile(r\"(?i)\\b(Adolph)\\b\")\n",
    "                      ],\n",
    "           \"Idi Amin\" : [re.compile(r\"(?i)\\b(Idi Amin)\\b\")],\n",
    "           \"Genghis Khan\" : [re.compile(r\"(?i)\\b(Genghis Khan)\\b\")],\n",
    "           \"Donald Trump\" : [re.compile(r\"(?i)\\b(Donald Trump|Trump)\\b\")],\n",
    "           \"Brexit\" : [re.compile(r\"(?i)\\b(Brexit|remoaner)\\b\")],\n",
    "           \"Political Correctness\" : [re.compile(r\"(?i)\\b(social justice|sjw|cancel culture|political correctness)\\b\")]\n",
    "           \n",
    "          }\n",
    "\n",
    "\n",
    "chancelator.perform_matches(ds, match_d)"
   ]
  },
  {
   "cell_type": "code",
   "execution_count": null,
   "metadata": {},
   "outputs": [],
   "source": []
  },
  {
   "cell_type": "code",
   "execution_count": null,
   "metadata": {},
   "outputs": [],
   "source": []
  }
 ],
 "metadata": {
  "kernelspec": {
   "display_name": "py36",
   "language": "python",
   "name": "py36"
  },
  "language_info": {
   "codemirror_mode": {
    "name": "ipython",
    "version": 3
   },
   "file_extension": ".py",
   "mimetype": "text/x-python",
   "name": "python",
   "nbconvert_exporter": "python",
   "pygments_lexer": "ipython3",
   "version": "3.6.8"
  }
 },
 "nbformat": 4,
 "nbformat_minor": 2
}
