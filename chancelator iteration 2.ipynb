{
 "cells": [
  {
   "cell_type": "code",
   "execution_count": 1,
   "metadata": {},
   "outputs": [],
   "source": [
    "import requests, re, json, datetime\n",
    "import os, sys\n",
    "from bs4 import BeautifulSoup as bs\n",
    "from urllib.parse import urljoin\n",
    "import uuid\n",
    "from hashlib import md5\n",
    "import dateparser\n",
    "import pandas as pd\n",
    "\n",
    "\n",
    "import ScrapeBakery as sb"
   ]
  },
  {
   "cell_type": "code",
   "execution_count": 2,
   "metadata": {},
   "outputs": [],
   "source": [
    "now = datetime.datetime.now().timestamp()\n",
    "a_day = 86400\n",
    "days_since_start=1\n",
    "start_timestamp = now-(a_day * days_since_start)\n"
   ]
  },
  {
   "cell_type": "code",
   "execution_count": 3,
   "metadata": {},
   "outputs": [
    {
     "name": "stdout",
     "output_type": "stream",
     "text": [
      "Number of unique links to follow: 348\n",
      "Processing...\n",
      " 348 pages to collect\n"
     ]
    },
    {
     "ename": "AttributeError",
     "evalue": "'Response' object has no attribute 'response'",
     "output_type": "error",
     "traceback": [
      "\u001b[0;31m---------------------------------------------------------------------------\u001b[0m",
      "\u001b[0;31mAttributeError\u001b[0m                            Traceback (most recent call last)",
      "\u001b[0;32m<ipython-input-3-b19207cece00>\u001b[0m in \u001b[0;36m<module>\u001b[0;34m\u001b[0m\n\u001b[1;32m     24\u001b[0m \u001b[0mdata_harvest\u001b[0m \u001b[0;34m=\u001b[0m \u001b[0msb\u001b[0m\u001b[0;34m.\u001b[0m\u001b[0mHarvestLinks\u001b[0m\u001b[0;34m(\u001b[0m\u001b[0murls\u001b[0m\u001b[0;34m,\u001b[0m \u001b[0mstart_timestamp\u001b[0m\u001b[0;34m)\u001b[0m\u001b[0;34m\u001b[0m\u001b[0;34m\u001b[0m\u001b[0m\n\u001b[1;32m     25\u001b[0m \u001b[0mprint\u001b[0m\u001b[0;34m(\u001b[0m\u001b[0;34m\"Number of unique links to follow: {l}\"\u001b[0m\u001b[0;34m.\u001b[0m\u001b[0mformat\u001b[0m\u001b[0;34m(\u001b[0m\u001b[0ml\u001b[0m\u001b[0;34m=\u001b[0m\u001b[0mlen\u001b[0m\u001b[0;34m(\u001b[0m\u001b[0mdata_harvest\u001b[0m\u001b[0;34m.\u001b[0m\u001b[0mfetch_links\u001b[0m\u001b[0;34m)\u001b[0m\u001b[0;34m)\u001b[0m\u001b[0;34m)\u001b[0m\u001b[0;34m\u001b[0m\u001b[0;34m\u001b[0m\u001b[0m\n\u001b[0;32m---> 26\u001b[0;31m \u001b[0mdata_harvest\u001b[0m\u001b[0;34m.\u001b[0m\u001b[0mfetch_data\u001b[0m\u001b[0;34m(\u001b[0m\u001b[0;34m)\u001b[0m\u001b[0;34m\u001b[0m\u001b[0;34m\u001b[0m\u001b[0m\n\u001b[0m",
      "\u001b[0;32m~/Documents/Coding/gitHub/hb_scraper/ScrapeBakery.py\u001b[0m in \u001b[0;36mfetch_data\u001b[0;34m(self)\u001b[0m\n\u001b[1;32m    174\u001b[0m         \u001b[0;32mfor\u001b[0m \u001b[0me\u001b[0m\u001b[0;34m,\u001b[0m\u001b[0ml\u001b[0m \u001b[0;32min\u001b[0m \u001b[0menumerate\u001b[0m\u001b[0;34m(\u001b[0m\u001b[0mself\u001b[0m\u001b[0;34m.\u001b[0m\u001b[0mfetch_links\u001b[0m\u001b[0;34m)\u001b[0m\u001b[0;34m:\u001b[0m\u001b[0;34m\u001b[0m\u001b[0;34m\u001b[0m\u001b[0m\n\u001b[1;32m    175\u001b[0m             \u001b[0mr\u001b[0m \u001b[0;34m=\u001b[0m \u001b[0ms\u001b[0m\u001b[0;34m.\u001b[0m\u001b[0mget\u001b[0m\u001b[0;34m(\u001b[0m\u001b[0ml\u001b[0m\u001b[0;34m)\u001b[0m\u001b[0;34m\u001b[0m\u001b[0;34m\u001b[0m\u001b[0m\n\u001b[0;32m--> 176\u001b[0;31m             \u001b[0;32mif\u001b[0m \u001b[0mr\u001b[0m\u001b[0;34m.\u001b[0m\u001b[0mresponse\u001b[0m\u001b[0;34m==\u001b[0m\u001b[0;36m200\u001b[0m\u001b[0;34m:\u001b[0m\u001b[0;34m\u001b[0m\u001b[0;34m\u001b[0m\u001b[0m\n\u001b[0m\u001b[1;32m    177\u001b[0m                 \u001b[0mraw_content\u001b[0m\u001b[0;34m=\u001b[0m\u001b[0mr\u001b[0m\u001b[0;34m.\u001b[0m\u001b[0mtext\u001b[0m\u001b[0;34m\u001b[0m\u001b[0;34m\u001b[0m\u001b[0m\n\u001b[1;32m    178\u001b[0m                 \u001b[0mcontents\u001b[0m\u001b[0;34m.\u001b[0m\u001b[0mappend\u001b[0m\u001b[0;34m(\u001b[0m\u001b[0mIdeaPage\u001b[0m\u001b[0;34m(\u001b[0m\u001b[0ml\u001b[0m\u001b[0;34m,\u001b[0m\u001b[0mraw_content\u001b[0m\u001b[0;34m,\u001b[0m \u001b[0mself\u001b[0m\u001b[0;34m.\u001b[0m\u001b[0mstart_timestamp\u001b[0m\u001b[0;34m)\u001b[0m\u001b[0;34m)\u001b[0m\u001b[0;34m\u001b[0m\u001b[0;34m\u001b[0m\u001b[0m\n",
      "\u001b[0;31mAttributeError\u001b[0m: 'Response' object has no attribute 'response'"
     ]
    }
   ],
   "source": [
    "first_time=True\n",
    "# This makes use of a search url, returning all the ideas posted in some time period (defaulted to a day)\n",
    "a_day = 86400\n",
    "if first_time == True:\n",
    "    \n",
    "    days_since_start = (datetime.datetime.now() - datetime.datetime(2020,10,17) ).days\n",
    "    \n",
    "    start_timestamp = now-(a_day * days_since_start)\n",
    "    guess_m = 500\n",
    "    t_minus = int(now - start_timestamp)\n",
    "    urls = [\"https://www.halfbakery.com/view/ftm=r{t_minus}:s=Qr:d=irq:dn={m}:ds=0:n=Today_27s_20Notions:i=A_20list_20of_20todays_20ideas_20and_20annotations:t=Today_27s_20Notions\".format(m=guess_m,t_minus=t_minus),\n",
    "            \"https://www.halfbakery.com/view/ftm=r{t_minus}:s=Qr:d=irq:do=100:dn=100:ds=0:n=Today_27s_20Notions:i=A_20list_20of_20todays_20ideas_20and_20annotations:t=Today_27s_20Notions\".format(t_minus=t_minus),\n",
    "            \"https://www.halfbakery.com/view/ftm=r{t_minus}:s=Qr:d=irq:do=200:dn=100:ds=0:n=Today_27s_20Notions:i=A_20list_20of_20todays_20ideas_20and_20annotations:t=Today_27s_20Notions\".format(t_minus=t_minus),\n",
    "            \"https://www.halfbakery.com/view/ftm=r{t_minus}:s=Qr:d=irq:do=300:dn=100:ds=0:n=Today_27s_20Notions:i=A_20list_20of_20todays_20ideas_20and_20annotations:t=Today_27s_20Notions\".format(t_minus=t_minus),\n",
    "           \"https://www.halfbakery.com/view/ftm=r{t_minus}:s=Qr:d=irq:do=400:dn=100:ds=0:n=Today_27s_20Notions:i=A_20list_20of_20todays_20ideas_20and_20annotations:t=Today_27s_20Notions\".format(t_minus=t_minus)]\n",
    "    \n",
    "else:\n",
    "    start_timestamp = now-(a_day * 3)\n",
    "    guess_m = 100\n",
    "    t_minus = int(now - start_timestamp)\n",
    "    urls = [\"https://www.halfbakery.com/view/ftm=r{t_minus}:s=Qr:d=irq:dn={m}:ds=0:n=Today_27s_20Notions:i=A_20list_20of_20todays_20ideas_20and_20annotations:t=Today_27s_20Notions\".format(m=guess_m,t_minus=t_minus)]\n",
    "    \n",
    "\n",
    "data_harvest = sb.HarvestLinks(urls, start_timestamp)\n",
    "print(\"Number of unique links to follow: {l}\".format(l=len(data_harvest.fetch_links)))\n",
    "data_harvest.fetch_data()"
   ]
  },
  {
   "cell_type": "code",
   "execution_count": null,
   "metadata": {},
   "outputs": [],
   "source": [
    "ds = sb.DataStore(trash=False)"
   ]
  },
  {
   "cell_type": "code",
   "execution_count": null,
   "metadata": {},
   "outputs": [],
   "source": [
    "ds.query_to_recordset(\"select tbl_name from sqlite_master\")"
   ]
  },
  {
   "cell_type": "code",
   "execution_count": null,
   "metadata": {},
   "outputs": [],
   "source": [
    "for idea in data_harvest.contents:\n",
    "    ds.save_idea(idea)"
   ]
  },
  {
   "cell_type": "code",
   "execution_count": null,
   "metadata": {},
   "outputs": [],
   "source": [
    "pd.DataFrame(ds.query_to_recordset(\"select (select count(*) from fresh_ideas) fresh, (select count(*) from idea_fetch) raw\"))"
   ]
  },
  {
   "cell_type": "code",
   "execution_count": null,
   "metadata": {},
   "outputs": [],
   "source": []
  },
  {
   "cell_type": "code",
   "execution_count": null,
   "metadata": {},
   "outputs": [],
   "source": []
  },
  {
   "cell_type": "code",
   "execution_count": null,
   "metadata": {},
   "outputs": [],
   "source": []
  },
  {
   "cell_type": "code",
   "execution_count": null,
   "metadata": {},
   "outputs": [],
   "source": [
    "contribution_df = pd.DataFrame(ds.query_to_recordset(\"select * from latest_user_content\")).sort_values(by=[\"date\",\"seq\"])"
   ]
  },
  {
   "cell_type": "code",
   "execution_count": null,
   "metadata": {},
   "outputs": [],
   "source": [
    "match_d = {\"Hitler\" : [re.compile(r\"(?i)\\b(hitler)\\b\"), \n",
    "                       re.compile(r\"(?i)\\b(führer|fuhrer)\\b\"),\n",
    "                       re.compile(r\"(?i)\\b(Adolph)\\b\")\n",
    "                      ],\n",
    "           \"Idi Amin\" : [re.compile(r\"(?i)\\b(Idi Amin)\\b\")],\n",
    "           \"Genghis Khan\" : [re.compile(r\"(?i)\\b(Genghis Khan)\\b\")],\n",
    "           \"Donald Trump\" : [re.compile(r\"(?i)\\b(Donald Trump|Trump)\\b\")],\n",
    "           \"Brexit\" : [re.compile(r\"(?i)\\b(Brexit|remoaner)\\b\")],\n",
    "           \"Political Correctness\" : [re.compile(r\"(?i)\\b(social justice|sjw|cancel culture|political correctness)\\b\")]\n",
    "           \n",
    "          }\n",
    "def multi_matcher(text, match_d):\n",
    "    matches={}\n",
    "    wbs=[]\n",
    "    wb_regex=re.compile(r\"(\\b)\")\n",
    "    for m in wb_regex.finditer(text):\n",
    "        if m is not None:\n",
    "            wbs.append(m.span()[0])\n",
    "    for k,v in match_d.items():\n",
    "        matches[k]=[]\n",
    "        for vv in v:\n",
    "            m = vv.finditer(text)\n",
    "            if m is not None:\n",
    "                for mg in m:\n",
    "                    sp=mg.span()\n",
    "                    try:\n",
    "                        start_pos = [w for w in wbs if w < sp[0]-10][-1]\n",
    "                    except IndexError:\n",
    "                        start_pos = 0   \n",
    "                    try:\n",
    "                        end_pos = [w for w in wbs if w > sp[1]+10][0]\n",
    "                    except IndexError:\n",
    "                        end_pos = len(text)\n",
    "                    matches[k].append ((sp, \"//\" + text[start_pos:end_pos] + \"//\"))\n",
    "    for k in matches.keys():\n",
    "        if matches[k]==[]:\n",
    "            matches[k]=None\n",
    "    matches = {k:v for k,v in matches.items() if v is not None}\n",
    "    return matches"
   ]
  },
  {
   "cell_type": "code",
   "execution_count": null,
   "metadata": {},
   "outputs": [],
   "source": [
    "hmatch = contribution_df['text'].apply(lambda x : multi_matcher(x, match_d))"
   ]
  },
  {
   "cell_type": "code",
   "execution_count": null,
   "metadata": {},
   "outputs": [],
   "source": [
    "contribution_df[hmatch.apply(lambda x : x != {})]"
   ]
  },
  {
   "cell_type": "code",
   "execution_count": null,
   "metadata": {},
   "outputs": [],
   "source": [
    "for k in match_d.keys():\n",
    "    matches=hmatch.apply(lambda x : k in x.keys())\n",
    "    kmatches=hmatch[matches].apply(lambda x : x.get(k))\n",
    "    not_exclusions = contribution_df[\"url\"].apply(lambda x : x not in [\"https://www.halfbakery.com/idea/F_fcrst_20annual_20HalfBakery_20_93Wo_20ist_20der_20F_fchrer_20_3f_94_20programming_20competition_2e\", \"https://www.halfbakery.com/idea/Days_20Since_20Hitler_20Was_20Mentioned_20Here\"])\n",
    "    findex=((matches) & (not_exclusions))\n",
    "    f_df = contribution_df[findex]\n",
    "    f_df['matches']=kmatches\n",
    "    print()\n",
    "    try:\n",
    "        final_mention = f_df.loc[f_df.groupby(\"date\").seq.idxmax()].iloc[-1]\n",
    "        #penultimate_mention = f_df.loc[f_df.groupby(\"date\").seq.idxmax()].iloc[-2]\n",
    "        #last_period = (final_mention['date']-penultimate_mention['date'])/86400\n",
    "        mention_period = int((now - final_mention['date'])/86400)\n",
    "        t = ds.query_to_recordset(\"select distinct title from idea_fetch where url=?\",[final_mention['url']])\n",
    "        #print(t[0]['title'])\n",
    "        \n",
    "        print(\"It has been {d} days since {t} was last mentioned.\".format(d=int(mention_period),t=k))\n",
    "        print(\"{c} found on {l} by [{u}] {t} on {d}\".format(c=final_mention['ctype'], l=t[0]['title'], u=final_mention['user'], t=final_mention['matches'][0][1].replace(\"\\n\", \"\").replace(\"\\r\", \"\"), d=datetime.datetime.fromtimestamp(final_mention['date']).strftime(\"%d %b %Y\")))\n",
    "        #print ( final_mention )\n",
    "    except IndexError as err:\n",
    "        #print(\"{t}\\t\".format(t=k), err)\n",
    "        print(\"No mention of {t} found in the cache.\".format(t=k))\n",
    "\n",
    "\n",
    "            "
   ]
  },
  {
   "cell_type": "code",
   "execution_count": null,
   "metadata": {},
   "outputs": [],
   "source": [
    "f_df.loc[f_df.groupby(\"date\").seq.idxmax()].iloc[-1]"
   ]
  },
  {
   "cell_type": "code",
   "execution_count": null,
   "metadata": {},
   "outputs": [],
   "source": []
  },
  {
   "cell_type": "code",
   "execution_count": null,
   "metadata": {},
   "outputs": [],
   "source": []
  }
 ],
 "metadata": {
  "kernelspec": {
   "display_name": "py36",
   "language": "python",
   "name": "py36"
  },
  "language_info": {
   "codemirror_mode": {
    "name": "ipython",
    "version": 3
   },
   "file_extension": ".py",
   "mimetype": "text/x-python",
   "name": "python",
   "nbconvert_exporter": "python",
   "pygments_lexer": "ipython3",
   "version": "3.6.8"
  }
 },
 "nbformat": 4,
 "nbformat_minor": 2
}
